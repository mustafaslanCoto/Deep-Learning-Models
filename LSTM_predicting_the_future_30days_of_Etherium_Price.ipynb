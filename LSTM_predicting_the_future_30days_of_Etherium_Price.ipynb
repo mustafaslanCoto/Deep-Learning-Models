{
 "cells": [
  {
   "cell_type": "code",
   "execution_count": 1,
   "id": "e094c977",
   "metadata": {},
   "outputs": [],
   "source": [
    "import numpy as np\n",
    "from tensorflow.keras.models import Sequential\n",
    "from tensorflow.keras.layers import LSTM\n",
    "from tensorflow.keras.layers import Dense\n",
    "from tensorflow.keras.layers import Flatten\n",
    "import pandas as pd\n",
    "from sklearn.preprocessing import MinMaxScaler\n",
    "import matplotlib.pyplot as plt"
   ]
  },
  {
   "cell_type": "code",
   "execution_count": 2,
   "id": "51c8ad25",
   "metadata": {},
   "outputs": [],
   "source": [
    "eth = pd.read_excel(\"ETH.xlsx\")"
   ]
  },
  {
   "cell_type": "code",
   "execution_count": 3,
   "id": "b17c0372",
   "metadata": {},
   "outputs": [],
   "source": [
    "eth[\"Date\"] = pd.to_datetime(eth[\"Date\"])"
   ]
  },
  {
   "cell_type": "code",
   "execution_count": 4,
   "id": "212d4719",
   "metadata": {},
   "outputs": [],
   "source": [
    "eth.sort_values(by=\"Date\", inplace=True)"
   ]
  },
  {
   "cell_type": "code",
   "execution_count": 5,
   "id": "04e35180",
   "metadata": {},
   "outputs": [],
   "source": [
    "eth = eth.reset_index().drop(columns = \"index\")"
   ]
  },
  {
   "cell_type": "markdown",
   "id": "0cb0068f",
   "metadata": {},
   "source": [
    "## Code for stacked LSTM"
   ]
  },
  {
   "cell_type": "code",
   "execution_count": 87,
   "id": "c9b84f6d",
   "metadata": {},
   "outputs": [],
   "source": [
    "df = eth[\"price\"]"
   ]
  },
  {
   "cell_type": "code",
   "execution_count": 86,
   "id": "9950f652",
   "metadata": {},
   "outputs": [],
   "source": [
    "#df_trn = df_trn[\"price\"]\n",
    "#df_tst = df_tst[\"price\"]"
   ]
  },
  {
   "cell_type": "code",
   "execution_count": 79,
   "id": "056c0545",
   "metadata": {},
   "outputs": [
    {
     "data": {
      "image/png": "[encoded data removed]",
      "text/plain": [
       "<Figure size 1080x360 with 1 Axes>"
      ]
     },
     "metadata": {
      "needs_background": "light"
     },
     "output_type": "display_data"
    }
   ],
   "source": [
    "#fig, ax = plt.subplots(figsize = (15,5))\n",
    "#ax.plot(df_trn)\n",
    "#ax.plot(df_tst)\n",
    "#plt.show()"
   ]
  },
  {
   "cell_type": "code",
   "execution_count": 102,
   "id": "2c012d51",
   "metadata": {},
   "outputs": [],
   "source": [
    "#Scale data\n",
    "scaler=MinMaxScaler(feature_range=(0,1))\n",
    "dfs =scaler.fit_transform(np.array(df).reshape(-1,1))\n",
    "#dfs_tst =scaler.fit_transform(np.array(df_tst).reshape(-1,1))  "
   ]
  },
  {
   "cell_type": "code",
   "execution_count": 103,
   "id": "61321437",
   "metadata": {},
   "outputs": [],
   "source": [
    "# splitting dataset into train and test split\n",
    "dfs_train = dfs[:-91]\n",
    "dfs_test = dfs[-91:]"
   ]
  },
  {
   "cell_type": "code",
   "execution_count": 109,
   "id": "d1ae6b0e",
   "metadata": {},
   "outputs": [],
   "source": [
    "# creating an appropriate dataset for LSTM\n",
    "#number of consecutive time steps in a time series that are considered as input for the LSTM\n",
    "\n",
    "def create_input_data(data, time_step):\n",
    "    X, Y = [], []\n",
    "    for i in range(len(data)-time_step-1):\n",
    "        a = data[i:(i+time_step), 0] ### subset i to time step row and 0th column\n",
    "        X.append(a)\n",
    "        Y.append(data[(i+time_step), 0])\n",
    "    return np.array(X), np.array(Y)"
   ]
  },
  {
   "cell_type": "code",
   "execution_count": 111,
   "id": "3cb7bad0",
   "metadata": {},
   "outputs": [],
   "source": [
    "# reshape into X=t,t+1,t+2,t+3,...t+30 and Y=t+31\n",
    "time_step = 30 \n",
    "X_train, Y_train = create_input_data(dfs_train, time_step)\n",
    "X_test, Y_test = create_input_data(dfs_test, time_step)"
   ]
  },
  {
   "cell_type": "code",
   "execution_count": 112,
   "id": "e3831e21",
   "metadata": {},
   "outputs": [
    {
     "name": "stdout",
     "output_type": "stream",
     "text": [
      "(2420, 30)\n",
      "(2420,)\n"
     ]
    }
   ],
   "source": [
    "print(X_train.shape),\n",
    "print(Y_train.shape)"
   ]
  },
  {
   "cell_type": "code",
   "execution_count": 113,
   "id": "2238cf53",
   "metadata": {},
   "outputs": [],
   "source": [
    "# Reshape from [samples, timesteps] to [samples, timesteps, features]--> converting from 2D to 3D\n",
    "X_train = X_train.reshape(X_train.shape[0], X_train.shape[1] , 1)\n",
    "X_test = X_test.reshape(X_test.shape[0], X_test.shape[1] , 1)"
   ]
  },
  {
   "cell_type": "code",
   "execution_count": 114,
   "id": "19aadb10",
   "metadata": {},
   "outputs": [],
   "source": [
    "### Create the Stacked LSTM model\n",
    "model=Sequential()\n",
    "model.add(LSTM(50,return_sequences=True,input_shape=(30,1)))\n",
    "model.add(LSTM(50,return_sequences=True))\n",
    "model.add(LSTM(50))\n",
    "model.add(Dense(1))\n",
    "model.compile(loss='mean_squared_error',optimizer='adam')"
   ]
  },
  {
   "cell_type": "code",
   "execution_count": 115,
   "id": "413aac70",
   "metadata": {},
   "outputs": [
    {
     "name": "stdout",
     "output_type": "stream",
     "text": [
      "Model: \"sequential_3\"\n",
      "_________________________________________________________________\n",
      " Layer (type)                Output Shape              Param #   \n",
      "=================================================================\n",
      " lstm_9 (LSTM)               (None, 30, 50)            10400     \n",
      "                                                                 \n",
      " lstm_10 (LSTM)              (None, 30, 50)            20200     \n",
      "                                                                 \n",
      " lstm_11 (LSTM)              (None, 50)                20200     \n",
      "                                                                 \n",
      " dense_3 (Dense)             (None, 1)                 51        \n",
      "                                                                 \n",
      "=================================================================\n",
      "Total params: 50,851\n",
      "Trainable params: 50,851\n",
      "Non-trainable params: 0\n",
      "_________________________________________________________________\n"
     ]
    }
   ],
   "source": [
    "model.summary()"
   ]
  },
  {
   "cell_type": "code",
   "execution_count": 116,
   "id": "66f79058",
   "metadata": {},
   "outputs": [
    {
     "name": "stdout",
     "output_type": "stream",
     "text": [
      "Epoch 1/200\n",
      "38/38 [==============================] - 10s 89ms/step - loss: 0.0103 - val_loss: 0.0014\n",
      "Epoch 2/200\n",
      "38/38 [==============================] - 2s 45ms/step - loss: 0.0017 - val_loss: 0.0012\n",
      "Epoch 3/200\n",
      "38/38 [==============================] - 2s 46ms/step - loss: 0.0015 - val_loss: 0.0011\n",
      "Epoch 4/200\n",
      "38/38 [==============================] - 2s 45ms/step - loss: 0.0014 - val_loss: 9.6933e-04\n",
      "Epoch 5/200\n",
      "38/38 [==============================] - 2s 44ms/step - loss: 0.0013 - val_loss: 9.3120e-04\n",
      "Epoch 6/200\n",
      "38/38 [==============================] - 2s 44ms/step - loss: 0.0012 - val_loss: 9.3557e-04\n",
      "Epoch 7/200\n",
      "38/38 [==============================] - 2s 44ms/step - loss: 0.0013 - val_loss: 7.9722e-04\n",
      "Epoch 8/200\n",
      "38/38 [==============================] - 2s 46ms/step - loss: 0.0010 - val_loss: 0.0015\n",
      "Epoch 9/200\n",
      "38/38 [==============================] - 2s 47ms/step - loss: 8.7539e-04 - val_loss: 7.9476e-04\n",
      "Epoch 10/200\n",
      "38/38 [==============================] - 2s 46ms/step - loss: 7.6078e-04 - val_loss: 6.3674e-04\n",
      "Epoch 11/200\n",
      "38/38 [==============================] - 2s 46ms/step - loss: 7.1048e-04 - val_loss: 7.6201e-04\n",
      "Epoch 12/200\n",
      "38/38 [==============================] - 2s 46ms/step - loss: 6.4984e-04 - val_loss: 5.6619e-04\n",
      "Epoch 13/200\n",
      "38/38 [==============================] - 2s 46ms/step - loss: 7.2200e-04 - val_loss: 4.7904e-04\n",
      "Epoch 14/200\n",
      "38/38 [==============================] - 2s 47ms/step - loss: 6.6356e-04 - val_loss: 4.7288e-04\n",
      "Epoch 15/200\n",
      "38/38 [==============================] - 2s 47ms/step - loss: 5.3713e-04 - val_loss: 4.3767e-04\n",
      "Epoch 16/200\n",
      "38/38 [==============================] - 2s 47ms/step - loss: 5.2401e-04 - val_loss: 4.3315e-04\n",
      "Epoch 17/200\n",
      "38/38 [==============================] - 2s 47ms/step - loss: 5.2698e-04 - val_loss: 5.1895e-04\n",
      "Epoch 18/200\n",
      "38/38 [==============================] - 2s 47ms/step - loss: 4.8067e-04 - val_loss: 4.1413e-04\n",
      "Epoch 19/200\n",
      "38/38 [==============================] - 2s 47ms/step - loss: 4.4665e-04 - val_loss: 4.0086e-04\n",
      "Epoch 20/200\n",
      "38/38 [==============================] - 2s 48ms/step - loss: 4.6521e-04 - val_loss: 3.9677e-04\n",
      "Epoch 21/200\n",
      "38/38 [==============================] - 2s 47ms/step - loss: 4.5875e-04 - val_loss: 5.3682e-04\n",
      "Epoch 22/200\n",
      "38/38 [==============================] - 2s 48ms/step - loss: 4.1607e-04 - val_loss: 4.6114e-04\n",
      "Epoch 23/200\n",
      "38/38 [==============================] - 2s 48ms/step - loss: 4.1971e-04 - val_loss: 3.7646e-04\n",
      "Epoch 24/200\n",
      "38/38 [==============================] - 2s 48ms/step - loss: 3.6647e-04 - val_loss: 3.6910e-04\n",
      "Epoch 25/200\n",
      "38/38 [==============================] - 2s 48ms/step - loss: 3.5409e-04 - val_loss: 5.4134e-04\n",
      "Epoch 26/200\n",
      "38/38 [==============================] - 2s 48ms/step - loss: 4.3401e-04 - val_loss: 3.4022e-04\n",
      "Epoch 27/200\n",
      "38/38 [==============================] - 2s 49ms/step - loss: 3.5467e-04 - val_loss: 3.8301e-04\n",
      "Epoch 28/200\n",
      "38/38 [==============================] - 2s 49ms/step - loss: 3.3257e-04 - val_loss: 3.2308e-04\n",
      "Epoch 29/200\n",
      "38/38 [==============================] - 2s 49ms/step - loss: 3.2552e-04 - val_loss: 4.4513e-04\n",
      "Epoch 30/200\n",
      "38/38 [==============================] - 2s 48ms/step - loss: 3.9743e-04 - val_loss: 3.7054e-04\n",
      "Epoch 31/200\n",
      "38/38 [==============================] - 2s 47ms/step - loss: 3.2314e-04 - val_loss: 4.2366e-04\n",
      "Epoch 32/200\n",
      "38/38 [==============================] - 2s 48ms/step - loss: 3.5382e-04 - val_loss: 3.6385e-04\n",
      "Epoch 33/200\n",
      "38/38 [==============================] - 2s 47ms/step - loss: 3.3777e-04 - val_loss: 3.3099e-04\n",
      "Epoch 34/200\n",
      "38/38 [==============================] - 2s 47ms/step - loss: 2.9718e-04 - val_loss: 3.0469e-04\n",
      "Epoch 35/200\n",
      "38/38 [==============================] - 2s 47ms/step - loss: 3.8151e-04 - val_loss: 5.3870e-04\n",
      "Epoch 36/200\n",
      "38/38 [==============================] - 2s 48ms/step - loss: 2.8772e-04 - val_loss: 3.5363e-04\n",
      "Epoch 37/200\n",
      "38/38 [==============================] - 2s 50ms/step - loss: 2.9196e-04 - val_loss: 2.8999e-04\n",
      "Epoch 38/200\n",
      "38/38 [==============================] - 2s 48ms/step - loss: 2.6356e-04 - val_loss: 2.9319e-04\n",
      "Epoch 39/200\n",
      "38/38 [==============================] - 2s 45ms/step - loss: 3.0427e-04 - val_loss: 2.7992e-04\n",
      "Epoch 40/200\n",
      "38/38 [==============================] - 2s 47ms/step - loss: 2.5423e-04 - val_loss: 2.6371e-04\n",
      "Epoch 41/200\n",
      "38/38 [==============================] - 2s 47ms/step - loss: 2.6635e-04 - val_loss: 2.6068e-04\n",
      "Epoch 42/200\n",
      "38/38 [==============================] - 2s 49ms/step - loss: 3.7187e-04 - val_loss: 3.0175e-04\n",
      "Epoch 43/200\n",
      "38/38 [==============================] - 2s 47ms/step - loss: 3.0778e-04 - val_loss: 2.7454e-04\n",
      "Epoch 44/200\n",
      "38/38 [==============================] - 2s 46ms/step - loss: 3.7855e-04 - val_loss: 2.7876e-04\n",
      "Epoch 45/200\n",
      "38/38 [==============================] - 2s 46ms/step - loss: 3.5642e-04 - val_loss: 4.1356e-04\n",
      "Epoch 46/200\n",
      "38/38 [==============================] - 2s 46ms/step - loss: 2.8828e-04 - val_loss: 2.5088e-04\n",
      "Epoch 47/200\n",
      "38/38 [==============================] - 2s 46ms/step - loss: 2.5418e-04 - val_loss: 2.6975e-04\n",
      "Epoch 48/200\n",
      "38/38 [==============================] - 2s 46ms/step - loss: 2.9623e-04 - val_loss: 2.6823e-04\n",
      "Epoch 49/200\n",
      "38/38 [==============================] - 2s 46ms/step - loss: 2.8536e-04 - val_loss: 2.5203e-04\n",
      "Epoch 50/200\n",
      "38/38 [==============================] - 2s 46ms/step - loss: 2.8421e-04 - val_loss: 2.7668e-04\n",
      "Epoch 51/200\n",
      "38/38 [==============================] - 2s 47ms/step - loss: 2.5700e-04 - val_loss: 2.4408e-04\n",
      "Epoch 52/200\n",
      "38/38 [==============================] - 2s 46ms/step - loss: 2.6522e-04 - val_loss: 2.4904e-04\n",
      "Epoch 53/200\n",
      "38/38 [==============================] - 2s 46ms/step - loss: 2.6468e-04 - val_loss: 2.4831e-04\n",
      "Epoch 54/200\n",
      "38/38 [==============================] - 2s 47ms/step - loss: 2.3957e-04 - val_loss: 2.3458e-04\n",
      "Epoch 55/200\n",
      "38/38 [==============================] - 2s 48ms/step - loss: 2.6367e-04 - val_loss: 2.7647e-04\n",
      "Epoch 56/200\n",
      "38/38 [==============================] - 2s 47ms/step - loss: 2.9009e-04 - val_loss: 2.3767e-04\n",
      "Epoch 57/200\n",
      "38/38 [==============================] - 2s 46ms/step - loss: 2.8617e-04 - val_loss: 4.3471e-04\n",
      "Epoch 58/200\n",
      "38/38 [==============================] - 2s 46ms/step - loss: 3.2164e-04 - val_loss: 2.5279e-04\n",
      "Epoch 59/200\n",
      "38/38 [==============================] - 2s 47ms/step - loss: 2.7564e-04 - val_loss: 3.8696e-04\n",
      "Epoch 60/200\n",
      "38/38 [==============================] - 2s 47ms/step - loss: 2.4554e-04 - val_loss: 2.7146e-04\n",
      "Epoch 61/200\n",
      "38/38 [==============================] - 2s 47ms/step - loss: 2.4572e-04 - val_loss: 2.4873e-04\n",
      "Epoch 62/200\n",
      "38/38 [==============================] - 2s 46ms/step - loss: 2.8342e-04 - val_loss: 2.3209e-04\n",
      "Epoch 63/200\n",
      "38/38 [==============================] - 2s 47ms/step - loss: 2.5278e-04 - val_loss: 7.2927e-04\n",
      "Epoch 64/200\n",
      "38/38 [==============================] - 2s 46ms/step - loss: 3.3410e-04 - val_loss: 2.3827e-04\n",
      "Epoch 65/200\n",
      "38/38 [==============================] - 2s 47ms/step - loss: 2.8296e-04 - val_loss: 2.5407e-04\n",
      "Epoch 66/200\n",
      "38/38 [==============================] - 2s 46ms/step - loss: 2.8556e-04 - val_loss: 2.3821e-04\n",
      "Epoch 67/200\n",
      "38/38 [==============================] - 2s 49ms/step - loss: 2.5032e-04 - val_loss: 2.3619e-04\n",
      "Epoch 68/200\n",
      "38/38 [==============================] - 2s 46ms/step - loss: 2.3400e-04 - val_loss: 2.7186e-04\n",
      "Epoch 69/200\n",
      "38/38 [==============================] - 2s 46ms/step - loss: 2.4710e-04 - val_loss: 2.3046e-04\n",
      "Epoch 70/200\n",
      "38/38 [==============================] - 2s 49ms/step - loss: 2.4626e-04 - val_loss: 2.4673e-04\n",
      "Epoch 71/200\n",
      "38/38 [==============================] - 2s 47ms/step - loss: 2.7078e-04 - val_loss: 2.3044e-04\n",
      "Epoch 72/200\n",
      "38/38 [==============================] - 2s 47ms/step - loss: 2.4134e-04 - val_loss: 2.2968e-04\n",
      "Epoch 73/200\n",
      "38/38 [==============================] - 2s 46ms/step - loss: 2.7807e-04 - val_loss: 3.4101e-04\n",
      "Epoch 74/200\n",
      "38/38 [==============================] - 2s 49ms/step - loss: 2.5817e-04 - val_loss: 2.8878e-04\n",
      "Epoch 75/200\n",
      "38/38 [==============================] - 2s 49ms/step - loss: 2.3605e-04 - val_loss: 2.6656e-04\n",
      "Epoch 76/200\n"
     ]
    },
    {
     "name": "stdout",
     "output_type": "stream",
     "text": [
      "38/38 [==============================] - 2s 49ms/step - loss: 3.1834e-04 - val_loss: 3.0563e-04\n",
      "Epoch 77/200\n",
      "38/38 [==============================] - 2s 46ms/step - loss: 2.4420e-04 - val_loss: 2.4462e-04\n",
      "Epoch 78/200\n",
      "38/38 [==============================] - 2s 47ms/step - loss: 2.3339e-04 - val_loss: 2.4054e-04\n",
      "Epoch 79/200\n",
      "38/38 [==============================] - 2s 44ms/step - loss: 2.3437e-04 - val_loss: 2.2323e-04\n",
      "Epoch 80/200\n",
      "38/38 [==============================] - 2s 45ms/step - loss: 2.4207e-04 - val_loss: 2.9088e-04\n",
      "Epoch 81/200\n",
      "38/38 [==============================] - 2s 44ms/step - loss: 2.4042e-04 - val_loss: 3.2967e-04\n",
      "Epoch 82/200\n",
      "38/38 [==============================] - 2s 45ms/step - loss: 2.3233e-04 - val_loss: 2.2488e-04\n",
      "Epoch 83/200\n",
      "38/38 [==============================] - 2s 45ms/step - loss: 2.4496e-04 - val_loss: 2.4355e-04\n",
      "Epoch 84/200\n",
      "38/38 [==============================] - 2s 44ms/step - loss: 2.8300e-04 - val_loss: 5.9303e-04\n",
      "Epoch 85/200\n",
      "38/38 [==============================] - 2s 45ms/step - loss: 2.9037e-04 - val_loss: 2.5828e-04\n",
      "Epoch 86/200\n",
      "38/38 [==============================] - 2s 44ms/step - loss: 2.6645e-04 - val_loss: 2.5556e-04\n",
      "Epoch 87/200\n",
      "38/38 [==============================] - 2s 44ms/step - loss: 2.2619e-04 - val_loss: 2.5217e-04\n",
      "Epoch 88/200\n",
      "38/38 [==============================] - 2s 44ms/step - loss: 2.8149e-04 - val_loss: 6.1578e-04\n",
      "Epoch 89/200\n",
      "38/38 [==============================] - 2s 44ms/step - loss: 2.8111e-04 - val_loss: 2.4443e-04\n",
      "Epoch 90/200\n",
      "38/38 [==============================] - 2s 44ms/step - loss: 2.3406e-04 - val_loss: 2.2768e-04\n",
      "Epoch 91/200\n",
      "38/38 [==============================] - 2s 44ms/step - loss: 2.3985e-04 - val_loss: 2.2511e-04\n",
      "Epoch 92/200\n",
      "38/38 [==============================] - 2s 44ms/step - loss: 2.3324e-04 - val_loss: 2.5282e-04\n",
      "Epoch 93/200\n",
      "38/38 [==============================] - 2s 45ms/step - loss: 2.5479e-04 - val_loss: 2.7735e-04\n",
      "Epoch 94/200\n",
      "38/38 [==============================] - 2s 44ms/step - loss: 2.4881e-04 - val_loss: 2.2421e-04\n",
      "Epoch 95/200\n",
      "38/38 [==============================] - 2s 46ms/step - loss: 2.4206e-04 - val_loss: 2.2148e-04\n",
      "Epoch 96/200\n",
      "38/38 [==============================] - 2s 45ms/step - loss: 3.7224e-04 - val_loss: 3.0413e-04\n",
      "Epoch 97/200\n",
      "38/38 [==============================] - 2s 44ms/step - loss: 3.1294e-04 - val_loss: 2.7000e-04\n",
      "Epoch 98/200\n",
      "38/38 [==============================] - 2s 45ms/step - loss: 2.3054e-04 - val_loss: 2.2415e-04\n",
      "Epoch 99/200\n",
      "38/38 [==============================] - 2s 44ms/step - loss: 2.3379e-04 - val_loss: 2.1680e-04\n",
      "Epoch 100/200\n",
      "38/38 [==============================] - 2s 44ms/step - loss: 2.4770e-04 - val_loss: 2.2648e-04\n",
      "Epoch 101/200\n",
      "38/38 [==============================] - 2s 44ms/step - loss: 2.3337e-04 - val_loss: 2.3536e-04\n",
      "Epoch 102/200\n",
      "38/38 [==============================] - 2s 44ms/step - loss: 2.5070e-04 - val_loss: 2.1850e-04\n",
      "Epoch 103/200\n",
      "38/38 [==============================] - 2s 44ms/step - loss: 2.7734e-04 - val_loss: 2.3934e-04\n",
      "Epoch 104/200\n",
      "38/38 [==============================] - 2s 44ms/step - loss: 2.4400e-04 - val_loss: 2.2994e-04\n",
      "Epoch 105/200\n",
      "38/38 [==============================] - 2s 44ms/step - loss: 2.3231e-04 - val_loss: 2.2725e-04\n",
      "Epoch 106/200\n",
      "38/38 [==============================] - 2s 45ms/step - loss: 2.3877e-04 - val_loss: 2.2135e-04\n",
      "Epoch 107/200\n",
      "38/38 [==============================] - 2s 44ms/step - loss: 2.3280e-04 - val_loss: 2.2552e-04\n",
      "Epoch 108/200\n",
      "38/38 [==============================] - 2s 45ms/step - loss: 2.3474e-04 - val_loss: 2.7855e-04\n",
      "Epoch 109/200\n",
      "38/38 [==============================] - 2s 44ms/step - loss: 2.7145e-04 - val_loss: 7.7725e-04\n",
      "Epoch 110/200\n",
      "38/38 [==============================] - 2s 44ms/step - loss: 2.8708e-04 - val_loss: 2.4188e-04\n",
      "Epoch 111/200\n",
      "38/38 [==============================] - 2s 45ms/step - loss: 2.6298e-04 - val_loss: 3.0823e-04\n",
      "Epoch 112/200\n",
      "38/38 [==============================] - 2s 44ms/step - loss: 2.5954e-04 - val_loss: 2.1475e-04\n",
      "Epoch 113/200\n",
      "38/38 [==============================] - 2s 46ms/step - loss: 2.4807e-04 - val_loss: 2.2747e-04\n",
      "Epoch 114/200\n",
      "38/38 [==============================] - 2s 45ms/step - loss: 2.4014e-04 - val_loss: 2.3514e-04\n",
      "Epoch 115/200\n",
      "38/38 [==============================] - 2s 45ms/step - loss: 2.3132e-04 - val_loss: 2.1519e-04\n",
      "Epoch 116/200\n",
      "38/38 [==============================] - 2s 44ms/step - loss: 2.3566e-04 - val_loss: 2.3928e-04\n",
      "Epoch 117/200\n",
      "38/38 [==============================] - 2s 44ms/step - loss: 2.2711e-04 - val_loss: 2.2667e-04\n",
      "Epoch 118/200\n",
      "38/38 [==============================] - 2s 46ms/step - loss: 2.2183e-04 - val_loss: 2.7093e-04\n",
      "Epoch 119/200\n",
      "38/38 [==============================] - 2s 45ms/step - loss: 2.4393e-04 - val_loss: 2.2631e-04\n",
      "Epoch 120/200\n",
      "38/38 [==============================] - 2s 45ms/step - loss: 2.2117e-04 - val_loss: 2.1296e-04\n",
      "Epoch 121/200\n",
      "38/38 [==============================] - 2s 45ms/step - loss: 2.4387e-04 - val_loss: 2.4678e-04\n",
      "Epoch 122/200\n",
      "38/38 [==============================] - 2s 44ms/step - loss: 2.4147e-04 - val_loss: 2.1560e-04\n",
      "Epoch 123/200\n",
      "38/38 [==============================] - 2s 45ms/step - loss: 2.2205e-04 - val_loss: 2.7906e-04\n",
      "Epoch 124/200\n",
      "38/38 [==============================] - 2s 46ms/step - loss: 2.2791e-04 - val_loss: 2.4577e-04\n",
      "Epoch 125/200\n",
      "38/38 [==============================] - 2s 46ms/step - loss: 2.2560e-04 - val_loss: 2.8853e-04\n",
      "Epoch 126/200\n",
      "38/38 [==============================] - 2s 46ms/step - loss: 2.3439e-04 - val_loss: 2.2964e-04\n",
      "Epoch 127/200\n",
      "38/38 [==============================] - 2s 45ms/step - loss: 2.6224e-04 - val_loss: 2.3207e-04\n",
      "Epoch 128/200\n",
      "38/38 [==============================] - 2s 46ms/step - loss: 2.6559e-04 - val_loss: 4.7173e-04\n",
      "Epoch 129/200\n",
      "38/38 [==============================] - 2s 44ms/step - loss: 2.7734e-04 - val_loss: 2.3920e-04\n",
      "Epoch 130/200\n",
      "38/38 [==============================] - 2s 44ms/step - loss: 3.0103e-04 - val_loss: 2.5040e-04\n",
      "Epoch 131/200\n",
      "38/38 [==============================] - 2s 45ms/step - loss: 2.5969e-04 - val_loss: 2.5507e-04\n",
      "Epoch 132/200\n",
      "38/38 [==============================] - 2s 45ms/step - loss: 2.2357e-04 - val_loss: 2.8320e-04\n",
      "Epoch 133/200\n",
      "38/38 [==============================] - 2s 46ms/step - loss: 2.6028e-04 - val_loss: 2.2139e-04\n",
      "Epoch 134/200\n",
      "38/38 [==============================] - 2s 44ms/step - loss: 2.3071e-04 - val_loss: 2.1668e-04\n",
      "Epoch 135/200\n",
      "38/38 [==============================] - 2s 44ms/step - loss: 2.1790e-04 - val_loss: 2.1176e-04\n",
      "Epoch 136/200\n",
      "38/38 [==============================] - 2s 44ms/step - loss: 2.2789e-04 - val_loss: 2.4907e-04\n",
      "Epoch 137/200\n",
      "38/38 [==============================] - 2s 44ms/step - loss: 2.4087e-04 - val_loss: 2.1250e-04\n",
      "Epoch 138/200\n",
      "38/38 [==============================] - 2s 45ms/step - loss: 2.3331e-04 - val_loss: 2.1071e-04\n",
      "Epoch 139/200\n",
      "38/38 [==============================] - 2s 45ms/step - loss: 2.2180e-04 - val_loss: 2.7457e-04\n",
      "Epoch 140/200\n",
      "38/38 [==============================] - 2s 44ms/step - loss: 2.4614e-04 - val_loss: 2.1145e-04\n",
      "Epoch 141/200\n",
      "38/38 [==============================] - 2s 46ms/step - loss: 2.2832e-04 - val_loss: 2.2028e-04\n",
      "Epoch 142/200\n",
      "38/38 [==============================] - 2s 47ms/step - loss: 2.3334e-04 - val_loss: 2.1428e-04\n",
      "Epoch 143/200\n",
      "38/38 [==============================] - 2s 49ms/step - loss: 2.2274e-04 - val_loss: 2.0955e-04\n",
      "Epoch 144/200\n",
      "38/38 [==============================] - 2s 48ms/step - loss: 2.4500e-04 - val_loss: 2.9074e-04\n",
      "Epoch 145/200\n",
      "38/38 [==============================] - 2s 45ms/step - loss: 2.3358e-04 - val_loss: 2.3253e-04\n",
      "Epoch 146/200\n",
      "38/38 [==============================] - 2s 44ms/step - loss: 2.2270e-04 - val_loss: 2.9442e-04\n",
      "Epoch 147/200\n",
      "38/38 [==============================] - 2s 44ms/step - loss: 2.4734e-04 - val_loss: 2.3324e-04\n",
      "Epoch 148/200\n",
      "38/38 [==============================] - 2s 44ms/step - loss: 2.1598e-04 - val_loss: 2.3456e-04\n",
      "Epoch 149/200\n",
      "38/38 [==============================] - 2s 47ms/step - loss: 2.2263e-04 - val_loss: 2.0915e-04\n",
      "Epoch 150/200\n",
      "38/38 [==============================] - 2s 46ms/step - loss: 2.4072e-04 - val_loss: 2.2580e-04\n"
     ]
    },
    {
     "name": "stdout",
     "output_type": "stream",
     "text": [
      "Epoch 151/200\n",
      "38/38 [==============================] - 2s 46ms/step - loss: 2.5015e-04 - val_loss: 2.4977e-04\n",
      "Epoch 152/200\n",
      "38/38 [==============================] - 2s 47ms/step - loss: 2.3549e-04 - val_loss: 2.1354e-04\n",
      "Epoch 153/200\n",
      "38/38 [==============================] - 2s 49ms/step - loss: 2.2738e-04 - val_loss: 3.3805e-04\n",
      "Epoch 154/200\n",
      "38/38 [==============================] - 2s 49ms/step - loss: 2.3667e-04 - val_loss: 2.1055e-04\n",
      "Epoch 155/200\n",
      "38/38 [==============================] - 2s 49ms/step - loss: 2.3437e-04 - val_loss: 2.2639e-04\n",
      "Epoch 156/200\n",
      "38/38 [==============================] - 2s 48ms/step - loss: 2.2714e-04 - val_loss: 2.0612e-04\n",
      "Epoch 157/200\n",
      "38/38 [==============================] - 2s 47ms/step - loss: 2.2449e-04 - val_loss: 2.0894e-04\n",
      "Epoch 158/200\n",
      "38/38 [==============================] - 2s 46ms/step - loss: 2.4064e-04 - val_loss: 3.4208e-04\n",
      "Epoch 159/200\n",
      "38/38 [==============================] - 2s 47ms/step - loss: 2.7126e-04 - val_loss: 2.0917e-04\n",
      "Epoch 160/200\n",
      "38/38 [==============================] - 2s 46ms/step - loss: 2.4370e-04 - val_loss: 2.1382e-04\n",
      "Epoch 161/200\n",
      "38/38 [==============================] - 2s 46ms/step - loss: 2.4724e-04 - val_loss: 2.1647e-04\n",
      "Epoch 162/200\n",
      "38/38 [==============================] - 2s 47ms/step - loss: 2.2624e-04 - val_loss: 2.1589e-04\n",
      "Epoch 163/200\n",
      "38/38 [==============================] - 2s 47ms/step - loss: 2.5838e-04 - val_loss: 2.0584e-04\n",
      "Epoch 164/200\n",
      "38/38 [==============================] - 2s 48ms/step - loss: 2.3605e-04 - val_loss: 2.3577e-04\n",
      "Epoch 165/200\n",
      "38/38 [==============================] - 2s 43ms/step - loss: 2.2832e-04 - val_loss: 3.6394e-04\n",
      "Epoch 166/200\n",
      "38/38 [==============================] - 2s 46ms/step - loss: 2.2705e-04 - val_loss: 2.0217e-04\n",
      "Epoch 167/200\n",
      "38/38 [==============================] - 2s 51ms/step - loss: 2.5670e-04 - val_loss: 2.1107e-04\n",
      "Epoch 168/200\n",
      "38/38 [==============================] - 2s 48ms/step - loss: 2.6712e-04 - val_loss: 2.2008e-04\n",
      "Epoch 169/200\n",
      "38/38 [==============================] - 2s 45ms/step - loss: 2.6175e-04 - val_loss: 2.4931e-04\n",
      "Epoch 170/200\n",
      "38/38 [==============================] - 2s 45ms/step - loss: 2.3346e-04 - val_loss: 2.0475e-04\n",
      "Epoch 171/200\n",
      "38/38 [==============================] - 2s 44ms/step - loss: 2.6493e-04 - val_loss: 2.1800e-04\n",
      "Epoch 172/200\n",
      "38/38 [==============================] - 2s 44ms/step - loss: 2.6678e-04 - val_loss: 3.2734e-04\n",
      "Epoch 173/200\n",
      "38/38 [==============================] - 2s 44ms/step - loss: 2.6279e-04 - val_loss: 2.0826e-04\n",
      "Epoch 174/200\n",
      "38/38 [==============================] - 2s 45ms/step - loss: 2.3698e-04 - val_loss: 2.2209e-04\n",
      "Epoch 175/200\n",
      "38/38 [==============================] - 2s 46ms/step - loss: 2.2587e-04 - val_loss: 2.0669e-04\n",
      "Epoch 176/200\n",
      "38/38 [==============================] - 2s 44ms/step - loss: 2.1491e-04 - val_loss: 2.4071e-04\n",
      "Epoch 177/200\n",
      "38/38 [==============================] - 2s 44ms/step - loss: 2.5322e-04 - val_loss: 2.0380e-04\n",
      "Epoch 178/200\n",
      "38/38 [==============================] - 2s 45ms/step - loss: 2.3980e-04 - val_loss: 3.4030e-04\n",
      "Epoch 179/200\n",
      "38/38 [==============================] - 2s 44ms/step - loss: 2.3525e-04 - val_loss: 2.0738e-04\n",
      "Epoch 180/200\n",
      "38/38 [==============================] - 2s 45ms/step - loss: 2.1542e-04 - val_loss: 2.2240e-04\n",
      "Epoch 181/200\n",
      "38/38 [==============================] - 2s 45ms/step - loss: 2.1866e-04 - val_loss: 2.2327e-04\n",
      "Epoch 182/200\n",
      "38/38 [==============================] - 2s 45ms/step - loss: 2.1848e-04 - val_loss: 2.1522e-04\n",
      "Epoch 183/200\n",
      "38/38 [==============================] - 2s 45ms/step - loss: 2.1779e-04 - val_loss: 2.0179e-04\n",
      "Epoch 184/200\n",
      "38/38 [==============================] - 2s 44ms/step - loss: 2.3713e-04 - val_loss: 2.2921e-04\n",
      "Epoch 185/200\n",
      "38/38 [==============================] - 2s 45ms/step - loss: 2.1819e-04 - val_loss: 2.1446e-04\n",
      "Epoch 186/200\n",
      "38/38 [==============================] - 2s 45ms/step - loss: 2.2343e-04 - val_loss: 2.7030e-04\n",
      "Epoch 187/200\n",
      "38/38 [==============================] - 2s 44ms/step - loss: 2.2921e-04 - val_loss: 2.0997e-04\n",
      "Epoch 188/200\n",
      "38/38 [==============================] - 2s 45ms/step - loss: 2.3735e-04 - val_loss: 2.3992e-04\n",
      "Epoch 189/200\n",
      "38/38 [==============================] - 2s 47ms/step - loss: 2.5138e-04 - val_loss: 2.3041e-04\n",
      "Epoch 190/200\n",
      "38/38 [==============================] - 2s 47ms/step - loss: 2.1269e-04 - val_loss: 2.0497e-04\n",
      "Epoch 191/200\n",
      "38/38 [==============================] - 2s 47ms/step - loss: 2.1843e-04 - val_loss: 2.1818e-04\n",
      "Epoch 192/200\n",
      "38/38 [==============================] - 2s 50ms/step - loss: 2.2078e-04 - val_loss: 2.1971e-04\n",
      "Epoch 193/200\n",
      "38/38 [==============================] - 2s 45ms/step - loss: 2.1601e-04 - val_loss: 3.4402e-04\n",
      "Epoch 194/200\n",
      "38/38 [==============================] - 2s 47ms/step - loss: 2.4866e-04 - val_loss: 2.8082e-04\n",
      "Epoch 195/200\n",
      "38/38 [==============================] - 2s 44ms/step - loss: 3.0148e-04 - val_loss: 2.6715e-04\n",
      "Epoch 196/200\n",
      "38/38 [==============================] - 2s 47ms/step - loss: 2.5707e-04 - val_loss: 2.4031e-04\n",
      "Epoch 197/200\n",
      "38/38 [==============================] - 2s 49ms/step - loss: 2.2412e-04 - val_loss: 1.9998e-04\n",
      "Epoch 198/200\n",
      "38/38 [==============================] - 2s 46ms/step - loss: 2.1816e-04 - val_loss: 2.1380e-04\n",
      "Epoch 199/200\n",
      "38/38 [==============================] - 2s 45ms/step - loss: 2.1329e-04 - val_loss: 2.1940e-04\n",
      "Epoch 200/200\n",
      "38/38 [==============================] - 2s 43ms/step - loss: 2.3200e-04 - val_loss: 2.0021e-04\n"
     ]
    },
    {
     "data": {
      "text/plain": [
       "<keras.callbacks.History at 0x1f1f1c3d240>"
      ]
     },
     "execution_count": 116,
     "metadata": {},
     "output_type": "execute_result"
    }
   ],
   "source": [
    "model.fit(X_train,Y_train,validation_data=(X_test,Y_test),epochs=200,batch_size=64,verbose=1)"
   ]
  },
  {
   "cell_type": "code",
   "execution_count": 145,
   "id": "bdfa6225",
   "metadata": {},
   "outputs": [
    {
     "name": "stdout",
     "output_type": "stream",
     "text": [
      "[[0.305143266916275], [0.304244726896286], [0.3024381995201111], [0.3004874289035797], [0.2983894646167755], [0.2962475121021271], [0.2941329777240753], [0.29207471013069153], [0.2900591194629669], [0.2880666255950928], [0.2860698401927948], [0.2840558886528015], [0.28201061487197876], [0.2799328565597534], [0.27782705426216125], [0.2756993770599365], [0.2735585570335388], [0.27141526341438293], [0.2692800462245941], [0.2671566605567932], [0.2650548219680786], [0.2629777789115906], [0.26093146204948425], [0.2589181363582611], [0.25693464279174805], [0.2549765408039093], [0.25303420424461365], [0.25111061334609985], [0.24919427931308746], [0.24728500843048096], [0.24538545310497284], [0.24349413812160492], [0.2416120171546936], [0.23973917961120605], [0.2378758043050766], [0.23602195084095], [0.23417781293392181], [0.2323431372642517], [0.23051828145980835], [0.22870314121246338], [0.22689783573150635], [0.22510239481925964], [0.22331684827804565], [0.22154106199741364], [0.2197749763727188], [0.21801865100860596], [0.21627184748649597], [0.21453461050987244], [0.21280670166015625], [0.21108800172805786], [0.2093784362077713], [0.20767799019813538], [0.20598644018173218], [0.20430386066436768], [0.20263008773326874], [0.20096518099308014], [0.1993091106414795], [0.19766168296337128], [0.1960231214761734], [0.194393128156662], [0.19277188181877136], [0.1911592334508896], [0.18955525755882263], [0.18795989453792572], [0.1863730400800705], [0.18479476869106293], [0.18322499096393585], [0.18166369199752808], [0.18011091649532318], [0.178566575050354], [0.17703066766262054], [0.175503209233284], [0.17398414015769958], [0.17247341573238373], [0.1709711253643036], [0.1694771945476532], [0.16799160838127136], [0.16651442646980286], [0.1650456041097641], [0.1635851263999939], [0.16213293373584747], [0.1606890857219696], [0.1592535823583603], [0.15782642364501953], [0.15640753507614136], [0.15499697625637054], [0.15359477698802948], [0.152200847864151], [0.15081530809402466], [0.1494380533695221], [0.1480691134929657]]\n"
     ]
    }
   ],
   "source": [
    "# prediction for next 30 days\n",
    "temp_input = dfs_train[-30:, 0].tolist() # last 30 days of the train data\n",
    "x_input = dfs_train[-30:, 0].reshape(1,-1) #first input data\n",
    "\n",
    "\n",
    "time_step =30\n",
    "last_output=[]\n",
    "n_steps=len(dfs_test)\n",
    "i=0\n",
    "while(i<n_steps):\n",
    "    \n",
    "    if(len(temp_input)>time_step):\n",
    "        x_input=np.array(temp_input[1:])\n",
    "        x_input=x_input.reshape(1,-1)\n",
    "        x_input = x_input.reshape((1, time_step, 1))\n",
    "        yhat = model.predict(x_input, verbose=0)\n",
    "        temp_input.extend(yhat[0].tolist())\n",
    "        temp_input=temp_input[1:]\n",
    "        last_output.extend(yhat.tolist())\n",
    "        i=i+1\n",
    "    else:\n",
    "        x_input = x_input.reshape((1, time_step,1))\n",
    "        yhat = model.predict(x_input, verbose=0)\n",
    "        temp_input.extend(yhat[0].tolist())\n",
    "        last_output.extend(yhat.tolist())\n",
    "        i=i+1\n",
    "    \n",
    "\n",
    "print(last_output) "
   ]
  },
  {
   "cell_type": "code",
   "execution_count": 131,
   "id": "bd384f66",
   "metadata": {},
   "outputs": [],
   "source": [
    "day_new=np.arange(len(dfs_train)-150, len(dfs_train)+1)\n",
    "day_pred=np.arange(len(dfs_train)+1, len(dfs_train) + len(dfs_test)+1)"
   ]
  },
  {
   "cell_type": "code",
   "execution_count": 144,
   "id": "65224e8e",
   "metadata": {},
   "outputs": [
    {
     "data": {
      "text/plain": [
       "[<matplotlib.lines.Line2D at 0x1f1ff2ad480>]"
      ]
     },
     "execution_count": 144,
     "metadata": {},
     "output_type": "execute_result"
    },
    {
     "data": {
      "image/png": "[encoded data removed]",
      "text/plain": [
       "<Figure size 432x288 with 1 Axes>"
      ]
     },
     "metadata": {
      "needs_background": "light"
     },
     "output_type": "display_data"
    }
   ],
   "source": [
    "plt.plot(day_new,scaler.inverse_transform(dfs_train[-151:]))\n",
    "plt.plot(day_pred,scaler.inverse_transform(dfs_test))\n",
    "plt.plot(day_pred,scaler.inverse_transform(last_output))\n"
   ]
  }
 ],
 "metadata": {
  "kernelspec": {
   "display_name": "Python 3 (ipykernel)",
   "language": "python",
   "name": "python3"
  },
  "language_info": {
   "codemirror_mode": {
    "name": "ipython",
    "version": 3
   },
   "file_extension": ".py",
   "mimetype": "text/x-python",
   "name": "python",
   "nbconvert_exporter": "python",
   "pygments_lexer": "ipython3",
   "version": "3.10.9"
  }
 },
 "nbformat": 4,
 "nbformat_minor": 5
}
